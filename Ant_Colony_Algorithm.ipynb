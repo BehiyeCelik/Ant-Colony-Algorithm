{
 "cells": [
  {
   "cell_type": "code",
   "execution_count": null,
   "metadata": {},
   "outputs": [],
   "source": [
    "import copy\n",
    "import matplotlib.pyplot as plt\n",
    "import networkx as nx\n",
    "import numpy as np\n",
    "import numpy.random as rnd\n",
    "import tsplib95\n",
    "import tsplib95.distances as distances\n",
    "from alns import ALNS, State\n",
    "from alns.accept import HillClimbing\n",
    "from alns.select import RouletteWheel\n",
    "from alns.stop import MaxRuntime\n",
    "import sys\n",
    "import numpy\n",
    "import random as rn\n",
    "import numpy as np\n",
    "from numpy.random import choice as np_choice\n"
   ]
  },
  {
   "cell_type": "code",
   "execution_count": null,
   "metadata": {},
   "outputs": [],
   "source": [
    "get_ipython().run_line_magic('matplotlib', 'inline')"
   ]
  },
  {
   "cell_type": "code",
   "execution_count": null,
   "metadata": {},
   "outputs": [],
   "source": [
    "SEED = 7654"
   ]
  },
  {
   "cell_type": "code",
   "execution_count": null,
   "metadata": {},
   "outputs": [],
   "source": [
    "# Graph named 'xqf131' with 131 nodes and 8646 edges\n",
    "DATA = tsplib95.load('xqf131.tsp')\n",
    "CITIES = list(DATA.node_coords.keys())"
   ]
  },
  {
   "cell_type": "code",
   "execution_count": null,
   "metadata": {},
   "outputs": [],
   "source": [
    "# Precompute the distance matrix - this saves a bunch of time evaluating moves.\n",
    "# + 1 since the cities start from one (not zero).\n",
    "COORDS = DATA.node_coords.values()\n",
    "DIST = np.empty((len(COORDS) + 1, len(COORDS) + 1))\n",
    "print(DIST.shape)\n",
    "for row, coord1 in enumerate(COORDS, 1):\n",
    "    for col, coord2 in enumerate(COORDS, 1):\n",
    "        DIST[row, col] = distances.euclidean(coord1, coord2)\n",
    "\n",
    "x_DIST = np.empty((len(COORDS), len(COORDS)))\n",
    "for row, coord1 in enumerate(COORDS, 0):\n",
    "    for col, coord2 in enumerate(COORDS, 0):\n",
    "        x_DIST[row, col] = distances.euclidean(coord1, coord2)\n",
    "        \n",
    "SOLUTION = tsplib95.load('xqf131.opt.tour')\n",
    "OPTIMAL = DATA.trace_tours(SOLUTION.tours)[0]\n",
    "\n",
    "print(f\"Total optimal tour length is {OPTIMAL}.\")"
   ]
  },
  {
   "cell_type": "code",
   "execution_count": null,
   "metadata": {},
   "outputs": [],
   "source": [
    "numpy.set_printoptions(threshold=sys.maxsize)\n",
    "np.set_printoptions(suppress=True)"
   ]
  },
  {
   "cell_type": "code",
   "execution_count": null,
   "metadata": {},
   "outputs": [],
   "source": [
    "x_DIST.shape\n",
    "print(x_DIST)"
   ]
  },
  {
   "cell_type": "code",
   "execution_count": null,
   "metadata": {},
   "outputs": [],
   "source": [
    "x_DIST = x_DIST.round(3)\n",
    "\n",
    "def trunc(values, decs=0):\n",
    "    return np.trunc(values*10**decs)/(10**decs)\n",
    "\n",
    "x_DIST = trunc(x_DIST, 1)\n",
    "\n",
    "for i in range(131):\n",
    "    for j in range(131):\n",
    "        if x_DIST[i][j] == 0:\n",
    "            x_DIST[i][j] = np.inf\n",
    "\n",
    "print(x_DIST)\n"
   ]
  },
  {
   "cell_type": "code",
   "execution_count": null,
   "metadata": {},
   "outputs": [],
   "source": [
    "numpy.set_printoptions(threshold=sys.maxsize)\n",
    "np.set_printoptions(suppress=True)"
   ]
  },
  {
   "cell_type": "code",
   "execution_count": null,
   "metadata": {},
   "outputs": [],
   "source": [
    "for i in range(131):\n",
    "    for j in range(131):\n",
    "        if x_DIST[i][j] == 0:\n",
    "            x_DIST[i][j] = np.inf"
   ]
  },
  {
   "cell_type": "code",
   "execution_count": null,
   "metadata": {},
   "outputs": [],
   "source": [
    "print(COORDS)"
   ]
  },
  {
   "cell_type": "code",
   "execution_count": null,
   "metadata": {},
   "outputs": [],
   "source": [
    "def x_draw_graph(graph, only_nodes=False, coords_value = DATA.node_coords, label = True):\n",
    "    \"\"\"\n",
    "    Helper method for drawing TSP (tour) graphs.\n",
    "    \"\"\"\n",
    "    print(\"nodes\\n\")\n",
    "    graph_nodes = graph.nodes\n",
    "    print(graph_nodes)\n",
    "    list_graph_nodes = list(graph_nodes)\n",
    "    print(len(list_graph_nodes))\n",
    "\n",
    "    print(\"edges\\n\")\n",
    "    graph_edges = graph.edges\n",
    "    print(graph_edges)\n",
    "    list_graph_edges = list(graph_edges)\n",
    "    print(len(list_graph_edges))\n",
    "    \n",
    "    print(\"coords_value\\n\")\n",
    "    print(len(coords_value))\n",
    "    print(coords_value)\n",
    "    \n",
    "    \n",
    "    fig, ax = plt.subplots(figsize=(12, 6))\n",
    "\n",
    "    if only_nodes:\n",
    "        nx.draw_networkx_nodes(graph, coords_value, node_size=150, ax=ax)\n",
    "        if label:\n",
    "            nx.draw_networkx_labels(graph, coords_value, labels={i: str(i) for i in range(0, len(graph.nodes) + 1)}, font_size=8, font_color='white')\n",
    "    else:\n",
    "        nx.draw_networkx(graph, coords_value, node_size=150, with_labels=False, ax=ax)\n",
    "        if label:\n",
    "            nx.draw_networkx_labels(graph, coords_value, labels={i: str(i) for i in range(0, len(graph.nodes) + 1)}, font_size=8, font_color='white')\n"
   ]
  },
  {
   "cell_type": "code",
   "execution_count": null,
   "metadata": {},
   "outputs": [],
   "source": [
    "print(DATA.get_graph())"
   ]
  },
  {
   "cell_type": "code",
   "execution_count": null,
   "metadata": {},
   "outputs": [],
   "source": [
    "n_ants=0\n",
    "n_best=0\n",
    "n_iterations=0\n",
    "decay=0\n",
    "alpha=0\n",
    "beta=0\n",
    "pheromone=0\n",
    "all_inds=0"
   ]
  },
  {
   "cell_type": "code",
   "execution_count": null,
   "metadata": {},
   "outputs": [],
   "source": [
    "def pick_move(pheromone, dist, visited):\n",
    "   pheromone = np.copy(pheromone)\n",
    "   #Make zero if the path has been visited\n",
    "   pheromone[list(visited)] = 0\n",
    "\n",
    "   #Ant makes a decision on what city to go using this formula\n",
    "   row = pheromone ** alpha * (( 1.0 / dist) ** beta)\n",
    "\n",
    "   #Probability formula\n",
    "   norm_row = row / row.sum()\n",
    "\n",
    "   #Move randomly using probability (select path to go using probability)\n",
    "   #p=probability\n",
    "   #Get index of an element that has bigger probability \n",
    "   move = np_choice(all_inds, 1, p=norm_row)[0]\n",
    "   #print(move)\n",
    "\n",
    "   #Return path that randomly selected\n",
    "   return move"
   ]
  },
  {
   "cell_type": "code",
   "execution_count": null,
   "metadata": {},
   "outputs": [],
   "source": [
    "def spread_pheronome(all_paths, n_best, shortest_path): # Q/Lk - Quantity of pheromone:\n",
    "   global pheromone, distances\n",
    "   # sorted a path form small to big (with values to be shorted are values on second collumn)\n",
    "   sorted_paths = sorted(all_paths, key=lambda x: x[1])\n",
    "\n",
    "   for path, dist in sorted_paths[:n_best]:\n",
    "      #print(\"spread pheronome: {0} ## {1}\".format(path, dist))\n",
    "      for move in path:\n",
    "         #print (move)\n",
    "         # ant deposits a pheromone on the way that its travelled \n",
    "         # the amount of pheromone that the ant deposit is (1/distances between 2 cities)\n",
    "         pheromone[move] += 1.0 / distances[move]"
   ]
  },
  {
   "cell_type": "code",
   "execution_count": null,
   "metadata": {},
   "outputs": [],
   "source": [
    "def gen_path_dist(path):\n",
    "   global distances\n",
    "   total_dist = 0\n",
    "   for ele in path:\n",
    "      total_dist += distances[ele]\n",
    "   return total_dist"
   ]
  },
  {
   "cell_type": "code",
   "execution_count": null,
   "metadata": {},
   "outputs": [],
   "source": [
    "def gen_path(start):\n",
    "   global pheromone, distances\n",
    "   path = []\n",
    "   #Start path to 0\n",
    "   visited = set()\n",
    "   visited.add(start)\n",
    "   #prev = start\n",
    "   prev = start\n",
    "   for i in range(len(distances) - 1):\n",
    "      move = pick_move(pheromone[prev], distances[prev], visited)\n",
    "      #Append path\n",
    "      path.append((prev, move))\n",
    "      #Change previous path to move path after append path\n",
    "      prev = move\n",
    "      #add Path that has been moved to visited, so the path that has\n",
    "      #been visited can be made to zero\n",
    "      visited.add(move)\n",
    "   path.append((prev, start)) # going back to where we started    \n",
    "   return path"
   ]
  },
  {
   "cell_type": "code",
   "execution_count": null,
   "metadata": {},
   "outputs": [],
   "source": [
    "def gen_all_paths():\n",
    "   all_paths = []\n",
    "   for i in range(n_ants):\n",
    "      path = gen_path(0) #0 is start\n",
    "      all_paths.append((path, gen_path_dist(path)))\n",
    "   return all_paths"
   ]
  },
  {
   "cell_type": "code",
   "execution_count": null,
   "metadata": {},
   "outputs": [],
   "source": [
    "def aco(distances_, n_ants_, n_best_, n_iterations_, decay_, alpha_=1, beta_=1, threshold = 0):\n",
    "   print(\"Starting\\n\")\n",
    "   global distances, n_ants, n_best, n_iterations, decay, alpha, beta, pheromone, all_inds\n",
    "   distances = distances_\n",
    "   n_ants = n_ants_\n",
    "   n_best = n_best_\n",
    "   n_iterations = n_iterations_\n",
    "   decay = decay_\n",
    "   alpha = alpha_\n",
    "   beta = beta_\n",
    "   pheromone = np.ones(distances_.shape) / 10\n",
    "   all_inds=range(len(distances_))\n",
    "\n",
    "   shortest_path = None\n",
    "   all_time_shortest_path = (\"placeholder\", np.inf)\n",
    "   for i in range(n_iterations_):\n",
    "      #Get all paths\n",
    "      all_paths = gen_all_paths()\n",
    "      \n",
    "      #Spread Pheromone\n",
    "      spread_pheronome(all_paths, n_best_, shortest_path=shortest_path)\n",
    "      \n",
    "      #Get the shortest path in all paths, based on its distance (x[1])\n",
    "      shortest_path = min(all_paths, key=lambda x: x[1])\n",
    "    \n",
    "      #print(\"shortest path : ## {0}\".format(shortest_path))\n",
    "      \n",
    "      # if total distance < infinity then :\n",
    "      # all_time_shortest_path = shortest_path\n",
    "      if shortest_path[1] < all_time_shortest_path[1]:\n",
    "        all_time_shortest_path = shortest_path\n",
    "        if(shortest_path[1] < threshold):\n",
    "            print(f'all_time_shortest_path {all_time_shortest_path}')\n",
    "            return all_time_shortest_path, shortest_path\n",
    "      # pheromone decay (pheromone * decay rate)           \n",
    "      pheromone = pheromone * decay            \n",
    "\n",
    "      #return all_time_shortest_path #the shortest path that founded by the ants\n",
    "    \n",
    "    #print(f'all_time_shortest_path' + all_time_shortest_path)\n",
    "   print(f'all_time_shortest_path {all_time_shortest_path}')\n",
    "   return all_time_shortest_path, shortest_path"
   ]
  },
  {
   "cell_type": "code",
   "execution_count": null,
   "metadata": {},
   "outputs": [],
   "source": [
    "#instance distances\n",
    "distances = np.array([[np.inf, 2, 2, 5, 7],\n",
    "                      [2, np.inf, 4, 8, 2],\n",
    "                      [2, 4, np.inf, 1, 3],\n",
    "                      [0, 8, 1, np.inf, 2],\n",
    "                      [7, 2, 3, 2, np.inf]])"
   ]
  },
  {
   "cell_type": "code",
   "execution_count": null,
   "metadata": {},
   "outputs": [],
   "source": [
    "class AntColony(object):\n",
    "\n",
    "    def __init__(self, distances, n_ants, n_best, n_iterations, decay, alpha=1, beta=1):\n",
    "        \"\"\"\n",
    "        Args:\n",
    "            distances (2D numpy.array): Square matrix of distances. Diagonal is assumed to be np.inf.\n",
    "            n_ants (int): Number of ants running per iteration\n",
    "            n_best (int): Number of best ants who deposit pheromone\n",
    "            n_iteration (int): Number of iterations\n",
    "            decay (float): Rate it which pheromone decays. The pheromone value is multiplied by decay, so 0.95 will lead to decay, 0.5 to much faster decay.\n",
    "            alpha (int or float): exponenet on pheromone, higher alpha gives pheromone more weight. Default=1\n",
    "            beta (int or float): exponent on distance, higher beta give distance more weight. Default=1\n",
    "        Example:\n",
    "            ant_colony = AntColony(german_distances, 100, 20, 2000, 0.95, alpha=1, beta=2)          \n",
    "        \"\"\"\n",
    "        self.distances  = distances\n",
    "        self.pheromone = np.ones(self.distances.shape) / len(distances)\n",
    "        self.all_inds = range(len(distances))\n",
    "        self.n_ants = n_ants\n",
    "        self.n_best = n_best\n",
    "        self.n_iterations = n_iterations\n",
    "        self.decay = decay\n",
    "        self.alpha = alpha\n",
    "        self.beta = beta\n",
    "\n",
    "    def run(self):\n",
    "        shortest_path = None\n",
    "        all_time_shortest_path = (\"placeholder\", np.inf)\n",
    "        for i in range(self.n_iterations):\n",
    "            all_paths = self.gen_all_paths()\n",
    "            self.spread_pheronome(all_paths, self.n_best, shortest_path=shortest_path)\n",
    "            shortest_path = min(all_paths, key=lambda x: x[1])\n",
    "            print (shortest_path)\n",
    "            if shortest_path[1] < all_time_shortest_path[1]:\n",
    "                all_time_shortest_path = shortest_path            \n",
    "            self.pheromone = self.pheromone * self.decay            \n",
    "        return all_time_shortest_path\n",
    "\n",
    "    def spread_pheronome(self, all_paths, n_best, shortest_path):\n",
    "        sorted_paths = sorted(all_paths, key=lambda x: x[1])\n",
    "        for path, dist in sorted_paths[:n_best]:\n",
    "            for move in path:\n",
    "                self.pheromone[move] += 1.0 / self.distances[move]\n",
    "\n",
    "    def gen_path_dist(self, path):\n",
    "        total_dist = 0\n",
    "        for ele in path:\n",
    "            total_dist += self.distances[ele]\n",
    "        return total_dist\n",
    "\n",
    "    def gen_all_paths(self):\n",
    "        all_paths = []\n",
    "        for i in range(self.n_ants):\n",
    "            path = self.gen_path(0)\n",
    "            all_paths.append((path, self.gen_path_dist(path)))\n",
    "        return all_paths\n",
    "\n",
    "    def gen_path(self, start):\n",
    "        path = []\n",
    "        visited = set()\n",
    "        visited.add(start)\n",
    "        prev = start\n",
    "        for i in range(len(self.distances) - 1):\n",
    "            move = self.pick_move(self.pheromone[prev], self.distances[prev], visited)\n",
    "            path.append((prev, move))\n",
    "            prev = move\n",
    "            visited.add(move)\n",
    "        path.append((prev, start)) # going back to where we started    \n",
    "        return path\n",
    "\n",
    "    def pick_move(self, pheromone, dist, visited):\n",
    "        pheromone = np.copy(pheromone)\n",
    "        pheromone[list(visited)] = 0\n",
    "\n",
    "        row = pheromone ** self.alpha * (( 1.0 / dist) ** self.beta)\n",
    "\n",
    "        norm_row = row / row.sum()\n",
    "        move = np_choice(self.all_inds, 1, p=norm_row)[0]\n",
    "        return move"
   ]
  },
  {
   "cell_type": "code",
   "execution_count": null,
   "metadata": {},
   "outputs": [],
   "source": [
    "ant_colony = AntColony(x_DIST, 100, 100, 50, 0.95, 1, 1) \n",
    "shortest_path = ant_colony.run()"
   ]
  },
  {
   "cell_type": "code",
   "execution_count": null,
   "metadata": {},
   "outputs": [],
   "source": [
    "shortest_path"
   ]
  },
  {
   "cell_type": "code",
   "execution_count": null,
   "metadata": {},
   "outputs": [],
   "source": [
    "# dist_matrix\n",
    "x_DIST = np.nan_to_num(x_DIST)"
   ]
  },
  {
   "cell_type": "code",
   "execution_count": null,
   "metadata": {},
   "outputs": [],
   "source": [
    "x_DIST.shape"
   ]
  },
  {
   "cell_type": "code",
   "execution_count": null,
   "metadata": {},
   "outputs": [],
   "source": [
    "for i in range(131):\n",
    "    for j in range(131):\n",
    "        if x_DIST[i][j] < 0:\n",
    "            print(x_DIST[i][j])"
   ]
  },
  {
   "cell_type": "code",
   "execution_count": null,
   "metadata": {},
   "outputs": [],
   "source": [
    "all_time_shortest_path, shortest_path = aco(x_DIST, 100, 100, 50, 0.1, 1, 1, 0)"
   ]
  },
  {
   "cell_type": "code",
   "execution_count": null,
   "metadata": {},
   "outputs": [],
   "source": [
    "test = all_time_shortest_path\n",
    "ar = np.array(shortest_path[0])\n",
    "ar_list = np.ndarray.tolist(ar)\n",
    "ar_list = list(ar_list)\n",
    "ar_list.sort()\n",
    "x_nodes = list(range(0,130))\n",
    "x_edges = ar_list[1:131]\n",
    "print(len(ar_list))\n",
    "x_edges_dict = dict(x_edges)\n",
    "x_obj = sum(x_DIST[node, x_edges_dict[node]] for node in x_nodes[1:len(x_nodes) - 1])\n",
    "print(x_obj)\n",
    "x_list_COORDS_dict = list(range(0,132))\n",
    "x_list_COORDS = list(COORDS)\n",
    "x_list_COORDS.append([0,0])\n",
    "x_dict = dict(zip(x_list_COORDS_dict,x_list_COORDS))\n",
    "XG = nx.Graph()\n",
    "XG.add_nodes_from(x_nodes[0:131])\n",
    "XG.add_edges_from(ar_list[0:131])\n",
    "x_draw_graph(XG, only_nodes=False, label =True, coords_value = x_dict)"
   ]
  }
 ],
 "metadata": {
  "language_info": {
   "name": "python"
  },
  "orig_nbformat": 4
 },
 "nbformat": 4,
 "nbformat_minor": 2
}
